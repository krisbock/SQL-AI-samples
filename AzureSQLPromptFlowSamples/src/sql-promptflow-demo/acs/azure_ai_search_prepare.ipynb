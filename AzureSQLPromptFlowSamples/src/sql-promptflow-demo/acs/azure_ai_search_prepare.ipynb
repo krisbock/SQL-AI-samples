{
 "cells": [
  {
   "cell_type": "markdown",
   "metadata": {},
   "source": [
    "# Prepare Azure AI Search with Vector Search\n",
    "\n",
    "This script demonstrates how to use the Azure AI Search SDK to create an index over Azure AdventureLT database. This is used to create a search index for the Azure SQL promptflow demo.\n",
    "\n",
    "\n",
    "### Prerequisites\n",
    "\n",
    "To run the code, you need to install the packages in the requirements.txt file. You can do this by running the following command:\n",
    "\n",
    "```python\n",
    "pip install -r requirements.txt\n",
    "```\n",
    "\n",
    "Copyright (c) Microsoft Corporation.\n",
    "Licensed under the MIT license."
   ]
  },
  {
   "cell_type": "code",
   "execution_count": 1,
   "metadata": {},
   "outputs": [
    {
     "name": "stderr",
     "output_type": "stream",
     "text": [
      "/home/krbock/miniconda3/envs/promptflow/lib/python3.10/site-packages/tqdm/auto.py:21: TqdmWarning: IProgress not found. Please update jupyter and ipywidgets. See https://ipywidgets.readthedocs.io/en/stable/user_install.html\n",
      "  from .autonotebook import tqdm as notebook_tqdm\n"
     ]
    }
   ],
   "source": [
    "import pandas as pd\n",
    "import pyodbc\n",
    "import json\n",
    "from openai import AzureOpenAI\n",
    "from tqdm.auto import tqdm\n",
    "from dotenv import load_dotenv\n",
    "import os\n",
    "from tenacity import retry, wait_random_exponential, stop_after_attempt\n",
    "from azure.core.credentials import AzureKeyCredential\n",
    "import requests"
   ]
  },
  {
   "cell_type": "markdown",
   "metadata": {},
   "source": [
    "#### Locate your .env file (should be base of repo)"
   ]
  },
  {
   "cell_type": "code",
   "execution_count": 2,
   "metadata": {},
   "outputs": [
    {
     "data": {
      "text/plain": [
       "True"
      ]
     },
     "execution_count": 2,
     "metadata": {},
     "output_type": "execute_result"
    }
   ],
   "source": [
    "load_dotenv('../../../../.env',override=True)"
   ]
  },
  {
   "cell_type": "code",
   "execution_count": 3,
   "metadata": {},
   "outputs": [],
   "source": [
    "azure_openai_endpoint = os.getenv(\"AZURE_OPENAI_API_BASE\")\n",
    "azure_openai_key = os.getenv('AZURE_OPENAI_API_KEY')\n",
    "azure_openai_version = os.getenv('AZURE_OPENAI_API_VERSION')\n",
    "azure_openai_gpt_deployment = os.getenv('AZURE_OPENAI_API_GPT_DEPLOYMENT')\n",
    "azure_openai_emb_deployment = os.getenv('AZURE_OPENAI_API_EMB_DEPLOYMENT')\n",
    "azure_search_key = os.getenv('AZURE_SEARCH_KEY')\n",
    "azure_search_endpoint = os.getenv('AZURE_SEARCH_ENDPOINT')\n",
    "azure_search_index = os.getenv('AZURE_SEARCH_INDEX')\n",
    "azure_sql_server = os.getenv('AZURE_SQL_SERVER')\n",
    "azure_sql_database = os.getenv('AZURE_SQL_DATABASE_NAME')\n",
    "azure_sql_user = os.getenv('AZURE_SQL_USER')\n",
    "azure_sql_pass = os.getenv('AZURE_SQL_PASSWORD')\n",
    "connectionString = f'Driver={{ODBC Driver 18 for SQL Server}};Server=tcp:{azure_sql_server}.database.windows.net,1433;Database={azure_sql_database};Uid={azure_sql_user};Pwd={azure_sql_pass};Encrypt=yes;TrustServerCertificate=no;Connection Timeout=30;'"
   ]
  },
  {
   "cell_type": "code",
   "execution_count": 4,
   "metadata": {},
   "outputs": [],
   "source": [
    "# init openai service to create embeddings\n",
    "\n",
    "client = AzureOpenAI(\n",
    "    azure_endpoint = azure_openai_endpoint,\n",
    "    api_key = azure_openai_key,\n",
    "    api_version = azure_openai_version,\n",
    ")\n",
    "\n",
    "@retry(wait=wait_random_exponential(min=1, max=20), stop=stop_after_attempt(6))\n",
    "# Function to generate embeddings for title and content fields, also used for query embeddings\n",
    "def generate_embeddings(text,  embedding_model_deploy_id=azure_openai_emb_deployment):\n",
    "    response = client.embeddings.create(\n",
    "        input=text, model=embedding_model_deploy_id)\n",
    "    embeddings = response.data[0].embedding\n",
    "    return embeddings"
   ]
  },
  {
   "cell_type": "code",
   "execution_count": 6,
   "metadata": {},
   "outputs": [
    {
     "name": "stdout",
     "output_type": "stream",
     "text": [
      "Total records to be indexed: 294, the maximum length of the description field is 221 characters.\n"
     ]
    }
   ],
   "source": [
    "# SQL QUERY to get products details from the database\n",
    "sqlQuery=\"\"\"SELECT PC.Name AS ProductCategoryName, SP.ProductId, SP.Name, SP.ProductNumber, SP.Color, SP.ListPrice, SP.Size, SP.ProductCategoryID, SP.ProductModelID, PD.ProductDescriptionID, PD.Description\n",
    "from [SalesLT].[Product] SP\n",
    "INNER JOIN SalesLT.ProductCategory PC ON PC.ProductCategoryID = SP.ProductCategoryID\n",
    "INNER JOIN [SalesLT].[ProductModelProductDescription] PMPD ON PMPD.ProductModelID = SP.ProductModelID\n",
    "INNER JOIN [SalesLT].[ProductDescription] PD ON PD.ProductDescriptionID = PMPD.ProductDescriptionID\n",
    "WHERE PMPD.Culture = 'en'\"\"\"\n",
    "\n",
    "# Connect to the database and execute the query to get the data for indexing\n",
    "conn = pyodbc.connect(connectionString)\n",
    "cursor = conn.cursor()\n",
    "queryResults = pd.DataFrame()\n",
    "try:\n",
    "    cursor.execute(sqlQuery)\n",
    "    records = cursor.fetchall()\n",
    "    queryResults = pd.DataFrame.from_records(records, columns=[col[0] for col in cursor.description])\n",
    "except Exception as e:\n",
    "    print(f\"connection could not be established: {e}\")\n",
    "finally:\n",
    "    cursor.close()\n",
    "\n",
    "queryResultsJson = json.loads(queryResults.to_json(orient='records'))\n",
    "print(f\"Total records to be indexed: {len(queryResultsJson)}, the maximum length of the description field is {queryResults['Description'].str.len().max()} characters.\")"
   ]
  },
  {
   "cell_type": "code",
   "execution_count": 7,
   "metadata": {},
   "outputs": [
    {
     "name": "stdout",
     "output_type": "stream",
     "text": [
      "Generating embeddings for the product name and product description fields.\n"
     ]
    },
    {
     "name": "stderr",
     "output_type": "stream",
     "text": [
      "  0%|          | 0/294 [00:00<?, ?it/s]"
     ]
    },
    {
     "name": "stderr",
     "output_type": "stream",
     "text": [
      "100%|██████████| 294/294 [00:55<00:00,  5.27it/s]\n"
     ]
    }
   ],
   "source": [
    "# generate embeddings for the product name and product description fields\n",
    "print(\"Generating embeddings for the product name and product description fields.\")\n",
    "for i in tqdm(range(len(queryResultsJson))):\n",
    "    doc = queryResultsJson[i]\n",
    "    queryResultsJson[i]['DescriptionVector'] = generate_embeddings(doc['Description'].strip())\n",
    "    queryResultsJson[i]['ProductCategoryNameVector'] = generate_embeddings(doc['ProductCategoryName'])"
   ]
  },
  {
   "cell_type": "markdown",
   "metadata": {},
   "source": [
    "### Create your seach index"
   ]
  },
  {
   "cell_type": "code",
   "execution_count": 8,
   "metadata": {},
   "outputs": [],
   "source": [
    "from azure.search.documents import SearchClient, SearchIndexingBufferedSender\n",
    "from azure.search.documents.indexes import SearchIndexClient\n",
    "from azure.search.documents.indexes.models import (\n",
    "    AzureOpenAIVectorizer,\n",
    "    AzureOpenAIParameters,    \n",
    "    ExhaustiveKnnAlgorithmConfiguration,\n",
    "    ExhaustiveKnnParameters,\n",
    "    HnswAlgorithmConfiguration,\n",
    "    HnswParameters,\n",
    "    SearchField,\n",
    "    SearchFieldDataType,\n",
    "    SearchIndex,\n",
    "    SemanticConfiguration,\n",
    "    SemanticField,\n",
    "    SemanticPrioritizedFields,\n",
    "    SemanticSearch,\n",
    "    SimpleField,\n",
    "    VectorSearch,\n",
    "    VectorSearchAlgorithmMetric,\n",
    "    VectorSearchProfile,\n",
    ")\n"
   ]
  },
  {
   "cell_type": "code",
   "execution_count": 9,
   "metadata": {},
   "outputs": [],
   "source": [
    "# init Azure Cognitive Search Service\n",
    "index_name = azure_search_index #\"promptflow-demo-product-description\"\n",
    "service_endpoint = azure_search_endpoint\n",
    "key = azure_search_key\n",
    "credential = AzureKeyCredential(key)"
   ]
  },
  {
   "cell_type": "code",
   "execution_count": 10,
   "metadata": {},
   "outputs": [
    {
     "name": "stdout",
     "output_type": "stream",
     "text": [
      "promptflow-demo-product-description created\n"
     ]
    }
   ],
   "source": [
    "# Create a search index\n",
    "index_client = SearchIndexClient(\n",
    "    endpoint=service_endpoint, credential=credential)\n",
    "fields = [\n",
    "    SearchField(name=\"ProductCategoryName\", type=SearchFieldDataType.String, searchable = True, filterable=True, facetable=False, retrievable = True),\n",
    "    SearchField(name=\"ProductId\", type=SearchFieldDataType.String, searchable = True, filterable=True, key=True),\n",
    "    SearchField(name=\"Name\", type=SearchFieldDataType.String, key=False, searchable = True, sortable=False, filterable=True, facetable=False, retrievable = True),\n",
    "    SearchField(name=\"ProductNumber\", type=SearchFieldDataType.String, searchable = True),\n",
    "    SearchField(name=\"Color\", type=SearchFieldDataType.String, searchable = True),\n",
    "    SimpleField(name=\"ListPrice\", type=SearchFieldDataType.Double, searchable = False, filterable=True),\n",
    "    SimpleField(name=\"Size\", type=SearchFieldDataType.String, searchable = False, filterable=True),\n",
    "    SimpleField(name=\"ProductCategoryID\", type=SearchFieldDataType.Int32, searchable = True, filterable=True),\n",
    "    SimpleField(name=\"ProductModelID\", type=SearchFieldDataType.Int32, searchable = True, filterable=True),\n",
    "    SimpleField(name=\"ProductDescriptionID\", type=SearchFieldDataType.Int32, searchable = True, filterable=True, ),\n",
    "    SearchField(name=\"Description\", type=SearchFieldDataType.String,\n",
    "                    filterable=True, searchable = True),\n",
    "    SearchField(name=\"DescriptionVector\", type=SearchFieldDataType.Collection(SearchFieldDataType.Single),\n",
    "                searchable=True, vector_search_dimensions=1536, vector_search_profile_name=\"myHnswProfile\"),\n",
    "    SearchField(name=\"ProductCategoryNameVector\", type=SearchFieldDataType.Collection(SearchFieldDataType.Single),\n",
    "                searchable=True, vector_search_dimensions=1536, vector_search_profile_name=\"myHnswProfile\"),\n",
    "]\n",
    "\n",
    "# Configure the vector search configuration\n",
    "vector_search = VectorSearch(\n",
    "    algorithms=[\n",
    "        HnswAlgorithmConfiguration(  \n",
    "            name=\"myHnsw\",  \n",
    "            parameters=HnswParameters(  \n",
    "                m=4,  \n",
    "                ef_construction=400,  \n",
    "                ef_search=500,  \n",
    "                metric=VectorSearchAlgorithmMetric.COSINE,  \n",
    "            ),  \n",
    "        ),\n",
    "        ExhaustiveKnnAlgorithmConfiguration(  \n",
    "            name=\"myExhaustiveKnn\",  \n",
    "            parameters=ExhaustiveKnnParameters(  \n",
    "                metric=VectorSearchAlgorithmMetric.COSINE,  \n",
    "            ),  \n",
    "        ),  \n",
    "    ],  \n",
    "    profiles=[  \n",
    "        VectorSearchProfile(  \n",
    "            name=\"myHnswProfile\",  \n",
    "            algorithm_configuration_name=\"myHnsw\",  \n",
    "            vectorizer=\"myOpenAI\",  \n",
    "        ),  \n",
    "        VectorSearchProfile(  \n",
    "            name=\"myExhaustiveKnnProfile\",  \n",
    "            algorithm_configuration_name=\"myExhaustiveKnn\",  \n",
    "            vectorizer=\"myOpenAI\",  \n",
    "        ),  \n",
    "    ],  \n",
    "    vectorizers=[  \n",
    "        AzureOpenAIVectorizer(  \n",
    "            name=\"myOpenAI\",  \n",
    "            kind=\"azureOpenAI\",  \n",
    "            azure_open_ai_parameters=AzureOpenAIParameters(  \n",
    "                resource_uri=azure_openai_endpoint,  \n",
    "                deployment_id=azure_openai_emb_deployment,  \n",
    "                api_key=azure_openai_key,  \n",
    "            ),  \n",
    "        ),  \n",
    "    ],  \n",
    ")  \n",
    "\n",
    "semantic_config = SemanticConfiguration(\n",
    "    name=\"my-semantic-config\",\n",
    "    prioritized_fields=SemanticPrioritizedFields(\n",
    "        title_field=SemanticField(field_name=\"Name\"),\n",
    "        keywords_fields=[SemanticField(field_name=\"ProductCategoryName\")],\n",
    "        content_fields=[SemanticField(field_name=\"Description\")]\n",
    "    )\n",
    ")\n",
    "\n",
    "# Create the semantic settings with the configuration\n",
    "semantic_search = SemanticSearch(configurations=[semantic_config])\n",
    "\n",
    "# Create the search index with the semantic settings\n",
    "index = SearchIndex(name=index_name, fields=fields,\n",
    "                    vector_search=vector_search, semantic_search=semantic_search)\n",
    "result = index_client.create_or_update_index(index)\n",
    "print(f'{result.name} created')"
   ]
  },
  {
   "cell_type": "markdown",
   "metadata": {},
   "source": [
    "### Index and upload embedded documents into vector store"
   ]
  },
  {
   "cell_type": "code",
   "execution_count": 11,
   "metadata": {},
   "outputs": [
    {
     "name": "stdout",
     "output_type": "stream",
     "text": [
      "Uploaded 294 documents\n"
     ]
    }
   ],
   "source": [
    "for i in range(len(queryResultsJson)):\n",
    "    # since productId is the key field, it needs to be a string\n",
    "    queryResultsJson[i]['ProductId'] = str(queryResultsJson[i]['ProductId'])\n",
    "\n",
    "search_client = SearchClient(endpoint=service_endpoint, index_name=index_name, credential=credential)\n",
    "result = search_client.upload_documents(queryResultsJson)\n",
    "print(f\"Uploaded {len(queryResultsJson)} documents\")"
   ]
  },
  {
   "cell_type": "markdown",
   "metadata": {},
   "source": [
    "### Vector Search Example"
   ]
  },
  {
   "cell_type": "code",
   "execution_count": 13,
   "metadata": {},
   "outputs": [],
   "source": [
    "from azure.search.documents import SearchClient\n",
    "from azure.search.documents.models import VectorizableTextQuery"
   ]
  },
  {
   "cell_type": "markdown",
   "metadata": {},
   "source": [
    "### Use SDK Search Client (use AI Search built-in embedding generation)"
   ]
  },
  {
   "cell_type": "code",
   "execution_count": 15,
   "metadata": {},
   "outputs": [
    {
     "name": "stdout",
     "output_type": "stream",
     "text": [
      "    id                   title  \\\n",
      "0  875         Racing Socks, L   \n",
      "1  874         Racing Socks, M   \n",
      "2  935       LL Mountain Pedal   \n",
      "3  879  All-Purpose Bike Stand   \n",
      "4  754        Road-450 Red, 58   \n",
      "\n",
      "                                             content  @search.score  \n",
      "0  Thin, lightweight and durable with cuffs that ...       0.046183  \n",
      "1  Thin, lightweight and durable with cuffs that ...       0.045365  \n",
      "2  Expanded platform so you can ride in any shoes...       0.038821  \n",
      "3  Perfect all-purpose bike stand for working on ...       0.037868  \n",
      "4  A true multi-sport bike that offers streamline...       0.034137  \n"
     ]
    }
   ],
   "source": [
    "import pandas as pd\n",
    "# Hybrid Search\n",
    "query = \"Do you have something that can help me exercise at home?\"  \n",
    "top_k = 5\n",
    "\n",
    "search_client = SearchClient(service_endpoint, index_name, credential=credential)\n",
    "vector_query = VectorizableTextQuery(text=query, k_nearest_neighbors=501, fields=\"ProductCategoryNameVector, DescriptionVector\", exhaustive=True)\n",
    "            # k_nearest_neighbors should be set to 50 in order to boost the relevance of hybrid search\n",
    "            # Increasing the vector recall set size from 1 to 50 in hybrid search benefits relevance by\n",
    "            # improving the diversity of vector query results that will be considered by RRF, ensuring a more comprehensive representation\n",
    "            # of the data results and more robustness to varying similarity scores or closely related similarity scores.\n",
    "  \n",
    "results = search_client.search(  \n",
    "    search_text=query,  \n",
    "    vector_queries= [vector_query],\n",
    "    select=[\"ProductId, ProductCategoryName, Name, ProductNumber, Color, ListPrice, Size, ProductCategoryID, ProductModelID, ProductDescriptionID, Description\"],\n",
    "    top=top_k\n",
    ")  \n",
    "  \n",
    "data = [[result[\"ProductId\"], result[\"Name\"], result[\"Description\"], result[\"@search.score\"]] for result in results]\n",
    "print(pd.DataFrame(data, columns=[\"id\", \"title\", \"content\", \"@search.score\"]))\n"
   ]
  },
  {
   "cell_type": "markdown",
   "metadata": {},
   "source": [
    "### Or REST API (manually generate embeddings of query)"
   ]
  },
  {
   "cell_type": "code",
   "execution_count": 18,
   "metadata": {},
   "outputs": [],
   "source": [
    "query = \"Do you have something that can help me exercise at home?\"\n",
    "top_k = 5\n",
    "api_version = \"2023-11-01\"\n",
    "\n",
    "headers = {\n",
    "        'Content-Type': 'application/json',\n",
    "        'api-key': key,\n",
    "    }\n",
    "params = {\n",
    "    'api-version': api_version,\n",
    "}\n",
    "body = {\n",
    "    \"vectorQueries\": [\n",
    "        {\n",
    "            \"kind\": \"vector\",\n",
    "            \"vector\": generate_embeddings(query),\n",
    "            \"fields\": \"ProductCategoryNameVector, DescriptionVector\",\n",
    "            \"k\": top_k\n",
    "\n",
    "        },\n",
    "    ],\n",
    "    \"select\": \"ProductId, ProductCategoryName, Name, ProductNumber, Color, ListPrice, Size, ProductCategoryID, ProductModelID, ProductDescriptionID, Description\",\n",
    "    \"top\": top_k,\n",
    "}\n",
    "response = requests.post(\n",
    "    f\"{service_endpoint}/indexes/{index_name}/docs/search\", headers=headers, params=params, json=body)\n",
    "#response_json = response.json()['value']"
   ]
  },
  {
   "cell_type": "code",
   "execution_count": 19,
   "metadata": {},
   "outputs": [
    {
     "data": {
      "text/plain": [
       "[{'@search.score': 0.01666666753590107,\n",
       "  'ProductCategoryName': 'Socks',\n",
       "  'ProductId': '710',\n",
       "  'Name': 'Mountain Bike Socks, L',\n",
       "  'ProductNumber': 'SO-B909-L',\n",
       "  'Color': 'White',\n",
       "  'ListPrice': 9.5,\n",
       "  'Size': 'L',\n",
       "  'ProductCategoryID': 27,\n",
       "  'ProductModelID': 18,\n",
       "  'ProductDescriptionID': 1189,\n",
       "  'Description': 'Combination of natural and synthetic fibers stays dry and provides just the right cushioning.'},\n",
       " {'@search.score': 0.01666666753590107,\n",
       "  'ProductCategoryName': 'Bike Stands',\n",
       "  'ProductId': '879',\n",
       "  'Name': 'All-Purpose Bike Stand',\n",
       "  'ProductNumber': 'ST-1401',\n",
       "  'Color': None,\n",
       "  'ListPrice': 159.0,\n",
       "  'Size': None,\n",
       "  'ProductCategoryID': 31,\n",
       "  'ProductModelID': 122,\n",
       "  'ProductDescriptionID': 1201,\n",
       "  'Description': 'Perfect all-purpose bike stand for working on your bike at home. Quick-adjusting clamps and steel construction.'},\n",
       " {'@search.score': 0.016393441706895828,\n",
       "  'ProductCategoryName': 'Socks',\n",
       "  'ProductId': '709',\n",
       "  'Name': 'Mountain Bike Socks, M',\n",
       "  'ProductNumber': 'SO-B909-M',\n",
       "  'Color': 'White',\n",
       "  'ListPrice': 9.5,\n",
       "  'Size': 'M',\n",
       "  'ProductCategoryID': 27,\n",
       "  'ProductModelID': 18,\n",
       "  'ProductDescriptionID': 1189,\n",
       "  'Description': 'Combination of natural and synthetic fibers stays dry and provides just the right cushioning.'},\n",
       " {'@search.score': 0.016393441706895828,\n",
       "  'ProductCategoryName': 'Road Bikes',\n",
       "  'ProductId': '974',\n",
       "  'Name': 'Road-350-W Yellow, 42',\n",
       "  'ProductNumber': 'BK-R79Y-42',\n",
       "  'Color': 'Yellow',\n",
       "  'ListPrice': 1700.99,\n",
       "  'Size': '42',\n",
       "  'ProductCategoryID': 6,\n",
       "  'ProductModelID': 27,\n",
       "  'ProductDescriptionID': 376,\n",
       "  'Description': 'Cross-train, race, or just socialize on a sleek, aerodynamic bike designed for a woman.  Advanced seat technology provides comfort all day.'},\n",
       " {'@search.score': 0.016129031777381897,\n",
       "  'ProductCategoryName': 'Socks',\n",
       "  'ProductId': '874',\n",
       "  'Name': 'Racing Socks, M',\n",
       "  'ProductNumber': 'SO-R809-M',\n",
       "  'Color': 'White',\n",
       "  'ListPrice': 8.99,\n",
       "  'Size': 'M',\n",
       "  'ProductCategoryID': 27,\n",
       "  'ProductModelID': 24,\n",
       "  'ProductDescriptionID': 1208,\n",
       "  'Description': 'Thin, lightweight and durable with cuffs that stay up.'}]"
      ]
     },
     "execution_count": 19,
     "metadata": {},
     "output_type": "execute_result"
    }
   ],
   "source": [
    "response.json()['value']"
   ]
  }
 ],
 "metadata": {
  "kernelspec": {
   "display_name": "pfsql",
   "language": "python",
   "name": "python3"
  },
  "language_info": {
   "codemirror_mode": {
    "name": "ipython",
    "version": 3
   },
   "file_extension": ".py",
   "mimetype": "text/x-python",
   "name": "python",
   "nbconvert_exporter": "python",
   "pygments_lexer": "ipython3",
   "version": "3.10.12"
  }
 },
 "nbformat": 4,
 "nbformat_minor": 2
}
