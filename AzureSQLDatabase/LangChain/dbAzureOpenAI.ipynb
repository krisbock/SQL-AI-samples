{
 "cells": [
  {
   "cell_type": "markdown",
   "metadata": {},
   "source": [
    "# Create a LangChain NL2SQL Agent using Azure OpenAI and Azure SQL Database\n",
    "This notebook goes through the process of creating a LangChain SQL Agent using Azure OpenAI as the LLM against an Azure SQL Database.\n",
    "\n",
    "## Install the required python libraries\n",
    "Start by installing the required libraries. Run the following at the terminal in the project folder so it references the project's requirements.txt:\n",
    "\n",
    "```bash\n",
    "pip install -r requirements.txt\n",
    "```\n"
   ]
  },
  {
   "cell_type": "markdown",
   "metadata": {},
   "source": [
    "## ODBC Driver for MS SQL Install\n",
    "\n",
    "Use the **odbcDriverInstallUbuntu.txt** script to install the Microsoft ODBC Driver for MS SQL (version 18).\n",
    "\n",
    "If you are not using codespace or Ubuntu, you can find the correct script to install the driver for linux [here](https://learn.microsoft.com/en-us/sql/connect/odbc/linux-mac/installing-the-microsoft-odbc-driver-for-sql-server), for windows [here](https://learn.microsoft.com/en-us/sql/connect/odbc/download-odbc-driver-for-sql-server), and for MacOS [here](https://learn.microsoft.com/en-us/sql/connect/odbc/linux-mac/install-microsoft-odbc-driver-sql-server-macos)."
   ]
  },
  {
   "cell_type": "markdown",
   "metadata": {},
   "source": [
    "## Create the table in the database\n",
    "(all SQL commands are in the database.sql script)\n",
    "\n",
    "In the database that will be used for this notebook, run the following:\n",
    "\n",
    "(create table permission and access to the dbo schema is needed. It's best to keep the roles and permissions at a minimum with working with NL2SQL)\n",
    "\n",
    "```SQL\n",
    "create table [dbo].[langtable] (id int Identity, username nvarchar(100))\n",
    "GO\n",
    "\n",
    "insert into [dbo].[langtable] (username) values('sammy')\n",
    "insert into [dbo].[langtable] (username) values('mary')\n",
    "insert into [dbo].[langtable] (username) values('jane')\n",
    "insert into [dbo].[langtable] (username) values('fred')\n",
    "insert into [dbo].[langtable] (username) values('billy')\n",
    "insert into [dbo].[langtable] (username) values('jonny')\n",
    "insert into [dbo].[langtable] (username) values('kenny')\n",
    "insert into [dbo].[langtable] (username) values('dan')\n",
    "insert into [dbo].[langtable] (username) values('frank')\n",
    "insert into [dbo].[langtable] (username) values('jenny')\n",
    "GO\n",
    "\n",
    "select * from [dbo].[langtable]\n",
    "GO\n",
    "```\n"
   ]
  },
  {
   "cell_type": "markdown",
   "metadata": {},
   "source": [
    "## .env file\n",
    "Fill out the .env file with your server, database, and key values. For this notebook, you only need to add edit the following values.\n",
    "\n",
    "For SQL Authentication or Entra ID Service Principal Authentication:\n",
    "\n",
    "```BASH\n",
    "AZURE_OPENAI_API_KEY=\"\" \n",
    "AZURE_OPENAI_ENDPOINT=\"\"\n",
    "AZURE_SQL_SERVER=\"\"\n",
    "AZURE_SQL_USER=\"\"\n",
    "AZURE_SQL_PASSWORD=\"\"\n",
    "AZURE_SQL_DATABASE_NAME=\"\"\n",
    "```\n",
    "\n",
    "For Entra ID Integrated Authentication:\n",
    "\n",
    "```BASH\n",
    "AZURE_OPENAI_API_KEY=\"\" \n",
    "AZURE_OPENAI_ENDPOINT=\"\"\n",
    "AZURE_SQL_SERVER=\"\"\n",
    "AZURE_SQL_DATABASE_NAME=\"\"\n",
    "```"
   ]
  },
  {
   "cell_type": "markdown",
   "metadata": {},
   "source": [
    "#### Locate your .env file (should be base of repo)"
   ]
  },
  {
   "cell_type": "code",
   "execution_count": 1,
   "metadata": {},
   "outputs": [],
   "source": [
    "from dotenv import dotenv_values\n",
    "config = dotenv_values('../../.env')"
   ]
  },
  {
   "cell_type": "code",
   "execution_count": 2,
   "metadata": {},
   "outputs": [],
   "source": [
    "azure_openai_endpoint = config['AZURE_OPENAI_API_GPT_BASE']\n",
    "azure_openai_key = config['AZURE_OPENAI_API_GPT_KEY']\n",
    "azure_openai_version = config['AZURE_OPENAI_API_GPT_VERSION']\n",
    "azure_openai_gpt_deployment = config['AZURE_OPENAI_API_GPT_DEPLOYMENT']\n",
    "azure_sql_server = config['AZURE_SQL_SERVER']\n",
    "azure_sql_database = config['AZURE_SQL_DATABASE_NAME'] \n",
    "#azure_sql_database = \"mySampleDatabase\" "
   ]
  },
  {
   "cell_type": "markdown",
   "metadata": {},
   "source": [
    "## Notebook Kernel\n",
    "Be sure to select a kernel for the python notebook by using the **Select Kernel** button in the upper right of the notebook."
   ]
  },
  {
   "cell_type": "markdown",
   "metadata": {},
   "source": [
    "## Starting the Example\n",
    "The first section sets up the python environment and gets any environment variables that were set."
   ]
  },
  {
   "cell_type": "code",
   "execution_count": 3,
   "metadata": {},
   "outputs": [],
   "source": [
    "from langchain.agents import create_sql_agent\n",
    "from langchain.agents.agent_types import AgentType\n",
    "from langchain_community.utilities.sql_database import SQLDatabase\n",
    "from langchain_community.agent_toolkits import SQLDatabaseToolkit\n",
    "from langchain_openai import AzureChatOpenAI\n",
    "\n",
    "from sqlalchemy import create_engine"
   ]
  },
  {
   "cell_type": "markdown",
   "metadata": {},
   "source": [
    "#### Create the database connection"
   ]
  },
  {
   "cell_type": "markdown",
   "metadata": {},
   "source": [
    "Using SQL Login or Service Principal"
   ]
  },
  {
   "cell_type": "code",
   "execution_count": 4,
   "metadata": {},
   "outputs": [],
   "source": [
    "azure_sql_user = config['AZURE_SQL_USER']\n",
    "azure_sql_pass = config['AZURE_SQL_PASSWORD']\n",
    "\n",
    "# using Azure SQL sql login\n",
    "connectionString=f'mssql+pyodbc://{azure_sql_user}:{azure_sql_pass}@{azure_sql_server}.database.windows.net/{azure_sql_database}?driver=ODBC+Driver+18+for+SQL+Server'\n",
    "# or Service Principal\n",
    "#connectionString=f\"mssql+pyodbc:///?odbc_connect=DRIVER={{ODBC Driver 18 for SQL Server}};SERVER={azure_sql_server}.database.windows.net;PORT=1433;UID={azure_sql_user};DATABASE={azure_sql_database};PWD={AZURE_SQL_PASSWORD};Authentication=ActiveDirectoryServicePrincipal\"\n",
    "\n",
    "# define the connection\n",
    "db_engine = create_engine(connectionString)"
   ]
  },
  {
   "cell_type": "markdown",
   "metadata": {},
   "source": [
    "Alternative EntraID login"
   ]
  },
  {
   "cell_type": "code",
   "execution_count": 14,
   "metadata": {},
   "outputs": [],
   "source": [
    "# #### extra steps if using Entra ID on Linux to get token (Interactive auth only on Windows)\n",
    "# from azure.identity import DefaultAzureCredential\n",
    "# import struct\n",
    "# credential = DefaultAzureCredential(exclude_interactive_browser_credential=False)\n",
    "\n",
    "# token_bytes = credential.get_token(\"https://database.windows.net/.default\").token.encode(\"UTF-16-LE\")\n",
    "# token_struct = struct.pack(f'<I{len(token_bytes)}s', len(token_bytes), token_bytes)\n",
    "# SQL_COPT_SS_ACCESS_TOKEN = 1256  # This connection option is defined by microsoft in msodbcsql.h\n",
    "\n",
    "# connecting_string=f'Driver={{ODBC Driver 18 for SQL Server}};Server=tcp:{azure_sql_server}.database.windows.net,1433;Database={azure_sql_database};Encrypt=yes;TrustServerCertificate=no;Connection Timeout=30'\n",
    "# connectionString = 'mssql+pyodbc:///?odbc_connect={}'.format(connecting_string)\n",
    "\n",
    "# # define the connection\n",
    "# db_engine = create_engine(connectionString, connect_args={'attrs_before': {SQL_COPT_SS_ACCESS_TOKEN: token_struct}})"
   ]
  },
  {
   "cell_type": "markdown",
   "metadata": {},
   "source": [
    "#### Next, test database connection."
   ]
  },
  {
   "cell_type": "code",
   "execution_count": 8,
   "metadata": {},
   "outputs": [
    {
     "name": "stdout",
     "output_type": "stream",
     "text": [
      "mssql\n",
      "['BuildVersion', 'ErrorLog', 'MSchange_tracking_history', 'foodreview']\n"
     ]
    },
    {
     "data": {
      "text/plain": [
       "\"[('2024-05-10 01:59:38',)]\""
      ]
     },
     "execution_count": 8,
     "metadata": {},
     "output_type": "execute_result"
    }
   ],
   "source": [
    "# connect to the Azure SQL database\n",
    "db = SQLDatabase(db_engine, view_support=True, schema=\"dbo\")\n",
    "\n",
    "# test the connection\n",
    "print(db.dialect)\n",
    "print(db.get_usable_table_names())\n",
    "db.run(\"select convert(varchar(25), getdate(), 120)\")\n"
   ]
  },
  {
   "cell_type": "markdown",
   "metadata": {},
   "source": [
    "Create a reference to Azure OpenAI as the LLM to be used with the SQL agent. Replace DEPLOYMENT_NAME with the name of your Azure OpenAI gpt-3.5-turbo-instruct deployment"
   ]
  },
  {
   "cell_type": "code",
   "execution_count": 9,
   "metadata": {},
   "outputs": [],
   "source": [
    "azurellm = AzureChatOpenAI(\n",
    "    azure_deployment=azure_openai_gpt_deployment,\n",
    "    openai_api_version = azure_openai_version,\n",
    "    azure_endpoint=azure_openai_endpoint,\n",
    "    api_key = azure_openai_key,\n",
    ")"
   ]
  },
  {
   "cell_type": "markdown",
   "metadata": {},
   "source": [
    "Run the following to create the SQL Agent"
   ]
  },
  {
   "cell_type": "code",
   "execution_count": 10,
   "metadata": {},
   "outputs": [],
   "source": [
    "toolkit = SQLDatabaseToolkit(db=db, llm=azurellm)\n",
    "\n",
    "agent_executor = create_sql_agent(\n",
    "    llm=azurellm,\n",
    "    toolkit=toolkit,\n",
    "    verbose=True,\n",
    "    #agent_type=AgentType.ZERO_SHOT_REACT_DESCRIPTION,\n",
    "    agent_type=\"openai-tools\",\n",
    ")\n"
   ]
  },
  {
   "cell_type": "markdown",
   "metadata": {},
   "source": [
    "Now, test the agent by creating a prompt using natural language asking about a database object."
   ]
  },
  {
   "cell_type": "code",
   "execution_count": 11,
   "metadata": {},
   "outputs": [
    {
     "name": "stdout",
     "output_type": "stream",
     "text": [
      "\n",
      "\n",
      "\u001b[1m> Entering new SQL Agent Executor chain...\u001b[0m\n",
      "\u001b[32;1m\u001b[1;3m\n",
      "Invoking: `sql_db_list_tables` with `{}`\n",
      "\n",
      "\n",
      "\u001b[0m\u001b[38;5;200m\u001b[1;3mBuildVersion, ErrorLog, MSchange_tracking_history, foodreview\u001b[0m\u001b[32;1m\u001b[1;3m\n",
      "Invoking: `sql_db_query` with `{'query': 'SELECT COUNT(*) AS TotalRows FROM foodreview'}`\n",
      "\n",
      "\n",
      "\u001b[0m\u001b[36;1m\u001b[1;3m[(99,)]\u001b[0m\u001b[32;1m\u001b[1;3mThe `foodreview` table contains a total of 99 rows.\u001b[0m\n",
      "\n",
      "\u001b[1m> Finished chain.\u001b[0m\n"
     ]
    },
    {
     "data": {
      "text/plain": [
       "{'input': 'count the rows in the foodreview table.',\n",
       " 'output': 'The `foodreview` table contains a total of 99 rows.'}"
      ]
     },
     "execution_count": 11,
     "metadata": {},
     "output_type": "execute_result"
    }
   ],
   "source": [
    "agent_executor.invoke(\"count the rows in the foodreview table.\")"
   ]
  },
  {
   "cell_type": "code",
   "execution_count": 12,
   "metadata": {},
   "outputs": [
    {
     "name": "stdout",
     "output_type": "stream",
     "text": [
      "\n",
      "\n",
      "\u001b[1m> Entering new SQL Agent Executor chain...\u001b[0m\n",
      "\u001b[32;1m\u001b[1;3m\n",
      "Invoking: `sql_db_list_tables` with `{}`\n",
      "\n",
      "\n",
      "\u001b[0m\u001b[38;5;200m\u001b[1;3mA, B, C, Employees, MSchange_tracking_history, Products, ProductsNameNotNull, ProductsWithIdentity, langtable\u001b[0m\u001b[32;1m\u001b[1;3m\n",
      "Invoking: `sql_db_query` with `{'query': 'SELECT COUNT(*) AS RowCount FROM langtable'}`\n",
      "\n",
      "\n",
      "\u001b[0m\u001b[36;1m\u001b[1;3mError: (pyodbc.OperationalError) ('08S01', '[08S01] [Microsoft][ODBC Driver 18 for SQL Server]TCP Provider: Error code 0x68 (104) (SQLExecDirectW)')\n",
      "[SQL: SELECT COUNT(*) AS RowCount FROM langtable]\n",
      "(Background on this error at: https://sqlalche.me/e/14/e3q8)\u001b[0m\u001b[32;1m\u001b[1;3m\n",
      "Invoking: `sql_db_query` with `{'query': 'SELECT COUNT(*) AS TotalRows FROM langtable;'}`\n",
      "\n",
      "\n",
      "\u001b[0m\u001b[36;1m\u001b[1;3m[(10,)]\u001b[0m\u001b[32;1m\u001b[1;3mThe `langtable` table contains a total of 10 rows.\u001b[0m\n",
      "\n",
      "\u001b[1m> Finished chain.\u001b[0m\n"
     ]
    },
    {
     "data": {
      "text/plain": [
       "{'input': 'count the rows in the langtable table.',\n",
       " 'output': 'The `langtable` table contains a total of 10 rows.'}"
      ]
     },
     "execution_count": 12,
     "metadata": {},
     "output_type": "execute_result"
    }
   ],
   "source": [
    "agent_executor.invoke(\"count the rows in the langtable table.\")"
   ]
  },
  {
   "cell_type": "markdown",
   "metadata": {},
   "source": [
    "### Using a dynamic few-shot prompt\n",
    "\n",
    "* Example from https://python.langchain.com/v0.1/docs/use_cases/sql/agents"
   ]
  },
  {
   "cell_type": "markdown",
   "metadata": {},
   "source": [
    "examples = [\n",
    "    {\"input\": \"List all artists.\", \"query\": \"SELECT * FROM Artist;\"},\n",
    "    {\n",
    "        \"input\": \"Find all albums for the artist 'AC/DC'.\",\n",
    "        \"query\": \"SELECT * FROM Album WHERE ArtistId = (SELECT ArtistId FROM Artist WHERE Name = 'AC/DC');\",\n",
    "    },\n",
    "    {\n",
    "        \"input\": \"List all tracks in the 'Rock' genre.\",\n",
    "        \"query\": \"SELECT * FROM Track WHERE GenreId = (SELECT GenreId FROM Genre WHERE Name = 'Rock');\",\n",
    "    },\n",
    "    {\n",
    "        \"input\": \"Find the total duration of all tracks.\",\n",
    "        \"query\": \"SELECT SUM(Milliseconds) FROM Track;\",\n",
    "    },\n",
    "    {\n",
    "        \"input\": \"List all customers from Canada.\",\n",
    "        \"query\": \"SELECT * FROM Customer WHERE Country = 'Canada';\",\n",
    "    },\n",
    "    {\n",
    "        \"input\": \"How many tracks are there in the album with ID 5?\",\n",
    "        \"query\": \"SELECT COUNT(*) FROM Track WHERE AlbumId = 5;\",\n",
    "    },\n",
    "    {\n",
    "        \"input\": \"Find the total number of invoices.\",\n",
    "        \"query\": \"SELECT COUNT(*) FROM Invoice;\",\n",
    "    },\n",
    "    {\n",
    "        \"input\": \"List all tracks that are longer than 5 minutes.\",\n",
    "        \"query\": \"SELECT * FROM Track WHERE Milliseconds > 300000;\",\n",
    "    },\n",
    "    {\n",
    "        \"input\": \"Who are the top 5 customers by total purchase?\",\n",
    "        \"query\": \"SELECT CustomerId, SUM(Total) AS TotalPurchase FROM Invoice GROUP BY CustomerId ORDER BY TotalPurchase DESC LIMIT 5;\",\n",
    "    },\n",
    "    {\n",
    "        \"input\": \"Which albums are from the year 2000?\",\n",
    "        \"query\": \"SELECT * FROM Album WHERE strftime('%Y', ReleaseDate) = '2000';\",\n",
    "    },\n",
    "    {\n",
    "        \"input\": \"How many employees are there\",\n",
    "        \"query\": 'SELECT COUNT(*) FROM \"Employee\"',\n",
    "    },\n",
    "]"
   ]
  },
  {
   "cell_type": "code",
   "execution_count": null,
   "metadata": {},
   "outputs": [],
   "source": [
    "from langchain_community.vectorstores import FAISS\n",
    "from langchain_core.example_selectors import SemanticSimilarityExampleSelector\n",
    "from langchain_openai import OpenAIEmbeddings\n",
    "\n",
    "example_selector = SemanticSimilarityExampleSelector.from_examples(\n",
    "    examples,\n",
    "    OpenAIEmbeddings(),\n",
    "    FAISS,\n",
    "    k=5,\n",
    "    input_keys=[\"input\"],\n",
    ")"
   ]
  },
  {
   "cell_type": "code",
   "execution_count": null,
   "metadata": {},
   "outputs": [],
   "source": [
    "from langchain_core.prompts import (\n",
    "    ChatPromptTemplate,\n",
    "    FewShotPromptTemplate,\n",
    "    MessagesPlaceholder,\n",
    "    PromptTemplate,\n",
    "    SystemMessagePromptTemplate,\n",
    ")\n",
    "\n",
    "system_prefix = \"\"\"You are an agent designed to interact with a SQL database.\n",
    "Given an input question, create a syntactically correct {dialect} query to run, then look at the results of the query and return the answer.\n",
    "Unless the user specifies a specific number of examples they wish to obtain, always limit your query to at most {top_k} results.\n",
    "You can order the results by a relevant column to return the most interesting examples in the database.\n",
    "Never query for all the columns from a specific table, only ask for the relevant columns given the question.\n",
    "You have access to tools for interacting with the database.\n",
    "Only use the given tools. Only use the information returned by the tools to construct your final answer.\n",
    "You MUST double check your query before executing it. If you get an error while executing a query, rewrite the query and try again.\n",
    "\n",
    "DO NOT make any DML statements (INSERT, UPDATE, DELETE, DROP etc.) to the database.\n",
    "\n",
    "If the question does not seem related to the database, just return \"I don't know\" as the answer.\n",
    "\n",
    "Here are some examples of user inputs and their corresponding SQL queries:\"\"\"\n",
    "\n",
    "few_shot_prompt = FewShotPromptTemplate(\n",
    "    example_selector=example_selector,\n",
    "    example_prompt=PromptTemplate.from_template(\n",
    "        \"User input: {input}\\nSQL query: {query}\"\n",
    "    ),\n",
    "    input_variables=[\"input\", \"dialect\", \"top_k\"],\n",
    "    prefix=system_prefix,\n",
    "    suffix=\"\",\n",
    ")"
   ]
  },
  {
   "cell_type": "code",
   "execution_count": null,
   "metadata": {},
   "outputs": [],
   "source": [
    "full_prompt = ChatPromptTemplate.from_messages(\n",
    "    [\n",
    "        SystemMessagePromptTemplate(prompt=few_shot_prompt),\n",
    "        (\"human\", \"{input}\"),\n",
    "        MessagesPlaceholder(\"agent_scratchpad\"),\n",
    "    ]\n",
    ")"
   ]
  },
  {
   "cell_type": "code",
   "execution_count": null,
   "metadata": {},
   "outputs": [],
   "source": [
    "# Example formatted prompt\n",
    "prompt_val = full_prompt.invoke(\n",
    "    {\n",
    "        \"input\": \"How many arists are there\",\n",
    "        \"top_k\": 5,\n",
    "        \"dialect\": \"SQLite\",\n",
    "        \"agent_scratchpad\": [],\n",
    "    }\n",
    ")\n",
    "print(prompt_val.to_string())"
   ]
  }
 ],
 "metadata": {
  "kernelspec": {
   "display_name": "Python 3",
   "language": "python",
   "name": "python3"
  },
  "language_info": {
   "codemirror_mode": {
    "name": "ipython",
    "version": 3
   },
   "file_extension": ".py",
   "mimetype": "text/x-python",
   "name": "python",
   "nbconvert_exporter": "python",
   "pygments_lexer": "ipython3",
   "version": "3.10.12"
  }
 },
 "nbformat": 4,
 "nbformat_minor": 2
}
